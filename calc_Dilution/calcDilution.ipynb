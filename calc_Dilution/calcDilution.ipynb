{
 "cells": [
  {
   "cell_type": "code",
   "execution_count": 2,
   "metadata": {},
   "outputs": [],
   "source": [
    "import fragmentAndSimulate as fas\n",
    "import calcIsotopologues as ci\n",
    "import pandas as pd\n",
    "import basicDeltaOperations as op\n",
    "\n",
    "import numpy as np\n",
    "import pandas as pd \n",
    "import matplotlib.pyplot as plt\n",
    "import seaborn as sns"
   ]
  },
  {
   "cell_type": "code",
   "execution_count": 3,
   "metadata": {},
   "outputs": [],
   "source": [
    "def MPADataframe(deltas):\n",
    "    IDList = ['Ccarbon','Hmethyl','Hother']\n",
    "    elIDs = ['C','H','H']\n",
    "    numberAtSite = [1,3,2]\n",
    "\n",
    "    l = [elIDs, numberAtSite, deltas]\n",
    "    cols = ['IDS','Number','deltas']\n",
    "\n",
    "    molecularDataFrame = pd.DataFrame(l, columns = IDList)\n",
    "    molecularDataFrame = molecularDataFrame.transpose()\n",
    "    molecularDataFrame.columns = cols\n",
    "\n",
    "    return molecularDataFrame"
   ]
  },
  {
   "cell_type": "code",
   "execution_count": 26,
   "metadata": {},
   "outputs": [],
   "source": [
    "def calcComparison(deltaMethylSmp, deltaMethylStd, deltaHydroxylSolvent, deltaHydroxylAtmo):\n",
    "    '''\n",
    "    Inputs:\n",
    "        deltaMethylSmp = delta value of the methyl group in the sample\n",
    "        deltaMethylStd = delta value of the methyl group in the standard\n",
    "        deltaHydroxylSolvent = delta value of the equilibrating solvent pool in the Orbitrap measurement\n",
    "        deltaHydroxylAtmo = delta value of the equilibrating atmospheric pool in the EA measurement. \n",
    "\n",
    "    Outputs: The delta values for sample vs standard recorded by the Orbitrap and EA, and the actual sample standard comparison for the methyl group.     \n",
    "    '''\n",
    "    #Get isotopologues for the Orbitrap measurement\n",
    "    MPAStd = MPADataframe([-30,deltaMethylStd, deltaHydroxylSolvent])\n",
    "    byAtomStdOrbi = ci.inputToAtomDict(MPAStd, disable = True)\n",
    "\n",
    "    MPASmp = MPADataframe([-30, deltaMethylSmp, deltaHydroxylSolvent])\n",
    "    byAtomSmpOrbi = ci.inputToAtomDict(MPASmp, disable = True)\n",
    "\n",
    "    #Calculate the observed Orbitrap delta value\n",
    "    UValStdPartial = (1/2 * byAtomStdOrbi['000001']['Conc'] + byAtomStdOrbi['000100']['Conc']) / byAtomStdOrbi['000000']['Conc']\n",
    "    UValSmpPartial = (1/2 * byAtomSmpOrbi['000001']['Conc'] +  byAtomSmpOrbi['000100']['Conc']) / byAtomSmpOrbi['000000']['Conc']\n",
    "    deltaComparisonOrbi = 1000 * (UValSmpPartial / UValStdPartial - 1)\n",
    "\n",
    "    #Get isotopologues for the EA measurement\n",
    "    MPAStd = MPADataframe([-30,deltaMethylStd, deltaHydroxylAtmo])\n",
    "    byAtomStdEA = ci.inputToAtomDict(MPAStd, disable = True)\n",
    "\n",
    "    MPASmp = MPADataframe([-30, deltaMethylSmp, deltaHydroxylAtmo])\n",
    "    byAtomSmpEA = ci.inputToAtomDict(MPASmp, disable = True)\n",
    "\n",
    "    #Calculate the observed EA delta value\n",
    "    UValStdEA = (byAtomStdEA['000001']['Conc'] + byAtomStdEA['000100']['Conc']) / byAtomStdEA['000000']['Conc']\n",
    "    UValSmpEA = (byAtomSmpEA['000001']['Conc'] + byAtomSmpEA['000100']['Conc']) / byAtomSmpEA['000000']['Conc']\n",
    "    deltaComparisonEA = 1000 * (UValSmpEA / UValStdEA - 1)\n",
    "\n",
    "    #Compute the actual sample standard comparison for the methyl group \n",
    "    UValStdMethyl = (byAtomStdOrbi['000100']['Conc']) / byAtomStdOrbi['000000']['Conc']\n",
    "    UValSmpMethyl = (byAtomSmpOrbi['000100']['Conc']) / byAtomSmpOrbi['000000']['Conc']\n",
    "    deltaComparisonMethyl = 1000 * (UValSmpMethyl / UValStdMethyl - 1)\n",
    "\n",
    "    return deltaComparisonOrbi, deltaComparisonEA, deltaComparisonMethyl"
   ]
  },
  {
   "cell_type": "code",
   "execution_count": 27,
   "metadata": {},
   "outputs": [
    {
     "data": {
      "text/plain": [
       "-185.9997286420867"
      ]
     },
     "execution_count": 27,
     "metadata": {},
     "output_type": "execute_result"
    }
   ],
   "source": [
    "#Given an atmospheric value of -120 per mil, compute the enrichment vs VSMOW of the methyl group based on the EA-IRMS measurement. \n",
    "atmoComp = -120\n",
    "observedC = op.deltaToConcentration('H',-159.6)\n",
    "atmoC = op.deltaToConcentration('H',atmoComp)\n",
    "\n",
    "methylC = tuple([(5*observedC[i] - 2*atmoC[i]) / 5 for i in range(len(observedC))])\n",
    "deltaMetofMPASIG = op.ratioToDelta('H',op.concentrationToM1Ratio(methylC))\n",
    "deltaMetofMPASIG"
   ]
  },
  {
   "cell_type": "code",
   "execution_count": 28,
   "metadata": {},
   "outputs": [
    {
     "name": "stdout",
     "output_type": "stream",
     "text": [
      "EA Scaling constant k\n",
      "1.720720480458795\n",
      "Orbitrap Scaling constant k\n",
      "1.376740251148922\n"
     ]
    }
   ],
   "source": [
    "#Get scaling constant for EA\n",
    "comp = calcComparison(-100, deltaMetofMPASIG, -80, -120)\n",
    "print(\"EA Scaling constant k\")\n",
    "print(comp[2] / comp[1])\n",
    "print(\"Orbitrap Scaling constant k\")\n",
    "print(comp[2] / comp[0])"
   ]
  }
 ],
 "metadata": {
  "kernelspec": {
   "display_name": "Orbitrap",
   "language": "python",
   "name": "python3"
  },
  "language_info": {
   "codemirror_mode": {
    "name": "ipython",
    "version": 3
   },
   "file_extension": ".py",
   "mimetype": "text/x-python",
   "name": "python",
   "nbconvert_exporter": "python",
   "pygments_lexer": "ipython3",
   "version": "3.7.11"
  },
  "orig_nbformat": 4,
  "vscode": {
   "interpreter": {
    "hash": "16f5581f95d5a0d39305ef18d1df771fa3d7ec0a3108dd60bc5ee9e96d6232e4"
   }
  }
 },
 "nbformat": 4,
 "nbformat_minor": 2
}
